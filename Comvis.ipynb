{
 "cells": [
  {
   "cell_type": "markdown",
   "source": [
    "code pembelajaran ini dibuat oleh naufal & hepatika...\r\n",
    "\r\n",
    "latihan yang dipelajari meliputi:\r\n",
    "    1. load gambar dalam sebuah folder\r\n",
    "    2. preprocessing gambar\r\n",
    "    3. spliting dataset train test\r\n",
    "    4. klasifikasi\r\n",
    "    5. model evaluasi"
   ],
   "metadata": {
    "ExecuteTime": {
     "start_time": "2021-09-29T04:19:37.327Z"
    }
   }
  },
  {
   "cell_type": "markdown",
   "source": [
    "# membaca data dan memberi label"
   ],
   "metadata": {}
  },
  {
   "cell_type": "code",
   "execution_count": 1,
   "source": [
    "import os\r\n",
    "import os.path\r\n",
    "import numpy as np\r\n",
    "import matplotlib.pyplot as plt\r\n",
    "X = []    \r\n",
    "import cv2\r\n",
    "\r\n",
    "#menentukan direktori/folder data citra yang akan dibuka\r\n",
    "dirname = 'hymenoptera_data/'  \r\n",
    "\r\n",
    "#menentukan ukuran tinggi dan lebar gambar\r\n",
    "height = 220\r\n",
    "width = 220\r\n",
    "dim = (width, height)\r\n",
    "\r\n",
    "#mengumpulkan data citra yang akan dibuka dalam satu array\r\n",
    "tampungan= []\r\n",
    "for path, subdirs, files in os.walk(dirname):\r\n",
    "    for name in files:\r\n",
    "        img_path = (os.path.join(path, name))\r\n",
    "        if img_path.endswith(\"jpg\"):\r\n",
    "            img = cv2.imread(img_path) #baca path data\r\n",
    "            #preprocessing data\r\n",
    "            convert = cv2.cvtColor(img, cv2.COLOR_BGR2HSV)\r\n",
    "            resized=cv2.resize(convert,dim, interpolation=cv2.INTER_LINEAR)\r\n",
    "            blur = cv2.GaussianBlur(resized,(5,5),0)\r\n",
    "            \r\n",
    "            tampungan.append(blur.flatten())\r\n",
    "X = np.array(tampungan)\r\n",
    "print(X.shape)\r\n",
    "\r\n",
    "y0 = np.zeros(122)\r\n",
    "y1 = np.ones(121)\r\n",
    "y2 = np.full((100), 2)\r\n",
    "y = []\r\n",
    "y = np.concatenate((y0,y1,y2), axis=0)"
   ],
   "outputs": [
    {
     "output_type": "stream",
     "name": "stdout",
     "text": [
      "(343, 145200)\n"
     ]
    }
   ],
   "metadata": {
    "ExecuteTime": {
     "end_time": "2021-09-29T04:55:28.623550Z",
     "start_time": "2021-09-29T04:55:27.111629Z"
    }
   }
  },
  {
   "cell_type": "markdown",
   "source": [
    "# train test split data"
   ],
   "metadata": {}
  },
  {
   "cell_type": "code",
   "execution_count": 3,
   "source": [
    "from sklearn.model_selection import GridSearchCV, train_test_split #library untuk train test split\r\n",
    "\r\n",
    "#melakukan splitting data\r\n",
    "X_train, X_test, y_train, y_test = train_test_split(X, y,test_size=0.20, stratify=y) #train size adalah persentase data test yang di-split\r\n",
    "\r\n",
    "from builtins import range\r\n",
    "from builtins import object\r\n",
    "\r\n",
    "num_training = X_train.shape[0]\r\n",
    "mask = list(range(num_training))\r\n",
    "X_train = X_train[mask]\r\n",
    "y_train = y_train[mask]\r\n",
    "\r\n",
    "num_test = X_test.shape[0]\r\n",
    "mask = list(range(num_test))\r\n",
    "X_test = X_test[mask]\r\n",
    "y_test = y_test[mask]\r\n",
    "\r\n",
    "# Mengubah data citra menjadi baris\r\n",
    "X_train = np.reshape(X_train, (X_train.shape[0], -1))\r\n",
    "X_test = np.reshape(X_test, (X_test.shape[0], -1))\r\n",
    "\r\n",
    "print(\"X_train: \"+str(X_train.shape))\r\n",
    "print(\"X_test: \"+str(X_test.shape))\r\n",
    "print(\"y_train: \"+str(y_train.shape))\r\n",
    "print(\"y_test: \"+str(y_test.shape))"
   ],
   "outputs": [
    {
     "output_type": "stream",
     "name": "stdout",
     "text": [
      "X_train: (68, 67500)\n",
      "X_test: (275, 67500)\n",
      "y_train: (68,)\n",
      "y_test: (275,)\n"
     ]
    }
   ],
   "metadata": {
    "ExecuteTime": {
     "end_time": "2021-09-29T04:41:58.381131Z",
     "start_time": "2021-09-29T04:41:58.106503Z"
    }
   }
  },
  {
   "cell_type": "markdown",
   "source": [
    "# uji training data"
   ],
   "metadata": {}
  },
  {
   "cell_type": "code",
   "execution_count": 4,
   "source": [
    "from sklearn import svm\r\n",
    "from sklearn.model_selection import cross_validate, cross_val_score\r\n",
    "\r\n",
    "scoring = {'acc': 'accuracy',\r\n",
    "#            'precision': 'precision',\r\n",
    "#            'recall': 'recall'\r\n",
    "          }\r\n",
    "\r\n",
    "# membangun model SVM\r\n",
    "model = svm.SVC(C=1.0, kernel=\"linear\" ,decision_function_shape='ovr', probability=True)\r\n",
    "score = cross_validate(model, X_train, y_train, scoring=scoring,\r\n",
    "                         cv=5, return_train_score=True)\r\n",
    "print(score['test_acc'].mean())"
   ],
   "outputs": [
    {
     "output_type": "stream",
     "name": "stdout",
     "text": [
      "0.5758241758241758\n"
     ]
    }
   ],
   "metadata": {
    "ExecuteTime": {
     "end_time": "2021-09-29T04:42:03.835160Z",
     "start_time": "2021-09-29T04:42:00.620966Z"
    }
   }
  },
  {
   "cell_type": "code",
   "execution_count": 5,
   "source": [
    "from sklearn.metrics import classification_report, accuracy_score, make_scorer\r\n",
    "\r\n",
    "def classification_report_with_accuracy_score(y_true, y_pred):\r\n",
    "    print (classification_report(y_true, y_pred)) # print hasil klasifikasi\r\n",
    "    return accuracy_score(y_true, y_pred) # return skor akurasi\r\n",
    "    \r\n",
    "# Nested CV dengan parameter yang dioptimasi\r\n",
    "nested_score = cross_val_score(model, X_train, y_train, cv=5, \r\n",
    "               scoring=make_scorer(classification_report_with_accuracy_score))\r\n",
    "print(nested_score.mean())"
   ],
   "outputs": [
    {
     "output_type": "stream",
     "name": "stdout",
     "text": [
      "              precision    recall  f1-score   support\n",
      "\n",
      "         0.0       0.17      0.20      0.18         5\n",
      "         1.0       0.33      0.40      0.36         5\n",
      "         2.0       1.00      0.50      0.67         4\n",
      "\n",
      "    accuracy                           0.36        14\n",
      "   macro avg       0.50      0.37      0.40        14\n",
      "weighted avg       0.46      0.36      0.39        14\n",
      "\n",
      "              precision    recall  f1-score   support\n",
      "\n",
      "         0.0       0.67      0.80      0.73         5\n",
      "         1.0       0.75      0.60      0.67         5\n",
      "         2.0       0.50      0.50      0.50         4\n",
      "\n",
      "    accuracy                           0.64        14\n",
      "   macro avg       0.64      0.63      0.63        14\n",
      "weighted avg       0.65      0.64      0.64        14\n",
      "\n",
      "              precision    recall  f1-score   support\n",
      "\n",
      "         0.0       0.50      0.60      0.55         5\n",
      "         1.0       0.67      0.40      0.50         5\n",
      "         2.0       0.60      0.75      0.67         4\n",
      "\n",
      "    accuracy                           0.57        14\n",
      "   macro avg       0.59      0.58      0.57        14\n",
      "weighted avg       0.59      0.57      0.56        14\n",
      "\n",
      "              precision    recall  f1-score   support\n",
      "\n",
      "         0.0       0.50      0.80      0.62         5\n",
      "         1.0       0.00      0.00      0.00         4\n",
      "         2.0       0.50      0.50      0.50         4\n",
      "\n",
      "    accuracy                           0.46        13\n",
      "   macro avg       0.33      0.43      0.37        13\n",
      "weighted avg       0.35      0.46      0.39        13\n",
      "\n",
      "              precision    recall  f1-score   support\n",
      "\n",
      "         0.0       0.75      0.75      0.75         4\n",
      "         1.0       0.80      0.80      0.80         5\n",
      "         2.0       1.00      1.00      1.00         4\n",
      "\n",
      "    accuracy                           0.85        13\n",
      "   macro avg       0.85      0.85      0.85        13\n",
      "weighted avg       0.85      0.85      0.85        13\n",
      "\n",
      "0.5758241758241758\n"
     ]
    }
   ],
   "metadata": {
    "ExecuteTime": {
     "end_time": "2021-09-29T04:42:08.888032Z",
     "start_time": "2021-09-29T04:42:06.215457Z"
    }
   }
  },
  {
   "cell_type": "markdown",
   "source": [
    "# uji test data"
   ],
   "metadata": {}
  },
  {
   "cell_type": "code",
   "execution_count": 7,
   "source": [
    "from sklearn.metrics import classification_report\r\n",
    "\r\n",
    "# melakukan uji data\r\n",
    "model.fit(X_train, y_train )\r\n",
    "y_pred = model.predict(X_test)\r\n",
    "print(classification_report(y_test, y_pred))"
   ],
   "outputs": [
    {
     "output_type": "stream",
     "name": "stdout",
     "text": [
      "              precision    recall  f1-score   support\n",
      "\n",
      "         0.0       0.48      0.57      0.52        98\n",
      "         1.0       0.59      0.37      0.46        97\n",
      "         2.0       0.62      0.75      0.68        80\n",
      "\n",
      "    accuracy                           0.55       275\n",
      "   macro avg       0.56      0.56      0.55       275\n",
      "weighted avg       0.56      0.55      0.54       275\n",
      "\n"
     ]
    }
   ],
   "metadata": {
    "ExecuteTime": {
     "end_time": "2021-09-29T04:10:15.583525Z",
     "start_time": "2021-09-29T04:10:14.151751Z"
    }
   }
  },
  {
   "cell_type": "code",
   "execution_count": 13,
   "source": [
    "from sklearn import svm\r\n",
    "from sklearn.model_selection import GridSearchCV\r\n",
    "param_grid={'C':[0.1,1,10,100],'gamma':[0.0001,0.001,0.1,1],'kernel':['linear','poly']}\r\n",
    "svc=svm.SVC(probability=True)\r\n",
    "model=GridSearchCV(svc,param_grid)"
   ],
   "outputs": [],
   "metadata": {
    "ExecuteTime": {
     "end_time": "2021-09-29T04:15:29.235292Z",
     "start_time": "2021-09-29T04:15:29.218290Z"
    }
   }
  },
  {
   "cell_type": "code",
   "execution_count": null,
   "source": [
    "import matplotlib.pyplot as plt\r\n",
    "url=input('Enter URL of Image :')\r\n",
    "img=cv2.imread(url)\r\n",
    "plt.imshow(img)\r\n",
    "plt.show()\r\n",
    "\r\n",
    "#Hasil Uji Klasifikasi pada dataset\r\n",
    "Categories=['anjing','kucing','ikan']\r\n",
    "img_resize=resize(img,(150,150,3))\r\n",
    "l=[img_resize.flatten()]\r\n",
    "model.fit(X_train,y_train)\r\n",
    "\r\n",
    "\r\n",
    "# Mengecek hasil klasifikasi pada salah satu dataset\r\n",
    "probability=model.predict_proba(l)\r\n",
    "print(probability)\r\n",
    "for ind,val in enumerate(Categories):\r\n",
    "    print(f'{val} = {probability[0][ind]*100}%')\r\n",
    "print(\"The predicted image is : \"+str(model.predict(l)))\r\n"
   ],
   "outputs": [],
   "metadata": {
    "ExecuteTime": {
     "start_time": "2021-09-29T04:16:24.379Z"
    }
   }
  },
  {
   "cell_type": "code",
   "execution_count": null,
   "source": [],
   "outputs": [],
   "metadata": {}
  }
 ],
 "metadata": {
  "kernelspec": {
   "display_name": "Python 3",
   "language": "python",
   "name": "python3"
  },
  "language_info": {
   "codemirror_mode": {
    "name": "ipython",
    "version": 3
   },
   "file_extension": ".py",
   "mimetype": "text/x-python",
   "name": "python",
   "nbconvert_exporter": "python",
   "pygments_lexer": "ipython3",
   "version": "3.7.4"
  },
  "toc": {
   "base_numbering": 1,
   "nav_menu": {},
   "number_sections": true,
   "sideBar": true,
   "skip_h1_title": false,
   "title_cell": "Table of Contents",
   "title_sidebar": "Contents",
   "toc_cell": false,
   "toc_position": {},
   "toc_section_display": true,
   "toc_window_display": false
  },
  "varInspector": {
   "cols": {
    "lenName": 16,
    "lenType": 16,
    "lenVar": 40
   },
   "kernels_config": {
    "python": {
     "delete_cmd_postfix": "",
     "delete_cmd_prefix": "del ",
     "library": "var_list.py",
     "varRefreshCmd": "print(var_dic_list())"
    },
    "r": {
     "delete_cmd_postfix": ") ",
     "delete_cmd_prefix": "rm(",
     "library": "var_list.r",
     "varRefreshCmd": "cat(var_dic_list()) "
    }
   },
   "types_to_exclude": [
    "module",
    "function",
    "builtin_function_or_method",
    "instance",
    "_Feature"
   ],
   "window_display": false
  }
 },
 "nbformat": 4,
 "nbformat_minor": 4
}