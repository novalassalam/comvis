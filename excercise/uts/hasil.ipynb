import cv2
from matplotlib import pyplot as plt
import numpy as np
import imutils
import os

folder_path = "D:\Kuliah\Semester 4\Computer Vesion\Gambar"

lower_green = np.array([0,100,0])
upper_green = np.array([80,255,100])

lower_kuning = np.array([20,100,100])
upper_kuning = np.array([40,255,255])
lower_red = np.array([0,50,70])
upper_red = np.array([20,250,255])

def latar():
    return plt.figure(num=None, figsize=(25,20), dpi=100)

# Fungsi untuk Menampilkan Gambar
def TampilGambar(img,title):
    plt.imshow(img)
    plt.title(title)

def is_contours (curve):
    peri = cv2.arcLength(curve, True)
    approx = cv2.approxPolyDP(curve, 0.02 * peri, True)
    return approx

# Fungsi untuk Segmentasi Berdasarkan Warna
def SegmentasiColor(img,lower,upper):
    # Bluring Gambar
    img = cv2.medianBlur(img, (5))
    # Lakukan Segmentasi warna
    mask = cv2.inRange(img, lower, upper)
    segmentasi = cv2.bitwise_and(img, img, mask = mask)
    return segmentasi

# Fungsi untuk Detection Color And Object Linggkaran
def ColorAndObjectDetection(img,lower1,upper1, lower2, upper2):
    # Blurkan Gambar original
    blur = cv2.medianBlur(img, (5))
    # Convert warna ke gray
    gray = cv2.cvtColor(blur, cv2.COLOR_BGR2GRAY)
    canny = cv2.Canny(gray, 50, 100)
    # Cari Counter Dalam Gambar
    contours = cv2.findContours(canny.copy(), cv2.RETR_LIST, cv2.CHAIN_APPROX_SIMPLE)
    contours = imutils.grab_contours(contours)
    shape = np.ones(img.shape[:2], dtype="uint8") * 255

    # Looping contours
    for cnt in contours:
        if len(is_contours(cnt)) == 3:
            cv2.drawContours(shape, [cnt], -1, 0, -1)
        elif len(is_contours(cnt)) == 4:
            cv2.drawContours(shape, [cnt], -1, 0, -1)
        elif len(is_contours(cnt)) == 5:
            cv2.drawContours(shape, [cnt], -1, 0, -1)
    # hapus kontur dari gambar dan tunjukkan gambar yang dihasilkan
    image = cv2.bitwise_and(img,img, mask = shape)
    # Convert BGR Ke HSV
    hsv = cv2.cvtColor(image, cv2.COLOR_BGR2HSV)
    # Segmentasi Warna Kuning
    MaskYellow = cv2.inRange(hsv, lower1, upper1)
    # Segmentasi Warna Merah
    MaskRed = cv2.inRange(hsv, lower2, upper2)
    # Gabungkan Segmentsi antara warna Kuning dan Merah
    segmention = cv2.bitwise_xor(MaskYellow, MaskRed)
    bitwise_and = cv2.bitwise_and(hsv, hsv, mask = segmention)
    # Convert Hsv To Rgb
    rgb = cv2.cvtColor(bitwise_and, cv2.COLOR_HSV2RGB)
    return rgb

latar()
def listDir(dir):
    fileName = os.listdir(dir)
    for fileNames in fileName:
        path = os.path.abspath(os.path.join(dir,fileNames))
        img = cv2.imread(path)
        rgb = cv2.cvtColor(img, cv2.COLOR_BGR2RGB)

        plt.subplot(1, 3, 1), TampilGamar(rgb, "Gambar Original")
        plt.subplot(1, 3, 2), TampilGamar(SegmentasiColor(img,lower_green,upper_green), "Hasil Soal No 1, Segmentasi Warna Hijau")
        plt.subplot(1, 3, 3), TampilGamar(ColorAndObjectDetection(img, lower_kuning, upper_kuning,lower_red, upper_red), "Hasil Soal No 2, Segmentasi Lingkaran")


if __name__ == "__main__":
    listDir(folder_path)