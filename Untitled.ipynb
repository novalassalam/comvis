{
 "cells": [
  {
   "cell_type": "code",
   "execution_count": 11,
   "metadata": {
    "ExecuteTime": {
     "end_time": "2021-10-08T12:36:48.950153Z",
     "start_time": "2021-10-08T12:36:48.820329Z"
    }
   },
   "outputs": [],
   "source": [
    "from sklearn import datasets\n",
    "\n",
    "\n",
    "digits = datasets.load_digits(n_class=4)\n",
    "\n",
    "X_train, y_train  = digits.data, digits. target\n"
   ]
  },
  {
   "cell_type": "code",
   "execution_count": 25,
   "metadata": {
    "ExecuteTime": {
     "end_time": "2021-10-08T12:52:33.178045Z",
     "start_time": "2021-10-08T12:52:32.717149Z"
    }
   },
   "outputs": [
    {
     "name": "stdout",
     "output_type": "stream",
     "text": [
      "Pipeline(memory=None,\n",
      "         steps=[('reduce_dim',\n",
      "                 PCA(copy=True, iterated_power='auto', n_components=0.5,\n",
      "                     random_state=None, svd_solver='auto', tol=0.0,\n",
      "                     whiten=False)),\n",
      "                ('classify',\n",
      "                 SVC(C=1, cache_size=200, class_weight=None, coef0=0.0,\n",
      "                     decision_function_shape='ovr', degree=3,\n",
      "                     gamma='auto_deprecated', kernel='linear', max_iter=-1,\n",
      "                     probability=True, random_state=None, shrinking=True,\n",
      "                     tol=0.001, verbose=False))],\n",
      "         verbose=False)\n",
      "['mean_fit_time', 'mean_score_time', 'mean_test_score', 'param_classify__C', 'param_reduce_dim', 'param_reduce_dim__n_components', 'params', 'rank_test_score', 'split0_test_score', 'split1_test_score', 'split2_test_score', 'split3_test_score', 'split4_test_score', 'std_fit_time', 'std_score_time', 'std_test_score']\n",
      "0.8722222222222222\n",
      "[0.84931507]\n"
     ]
    }
   ],
   "source": [
    "##using grid\n",
    "\n",
    "# Authors: Robert McGibbon, Joel Nothman\n",
    "\n",
    "from __future__ import print_function, division\n",
    "from sklearn.metrics import precision_score,accuracy_score,recall_score,make_scorer\n",
    "from sklearn.model_selection import train_test_split,cross_validate\n",
    "from sklearn import svm \n",
    "\n",
    "import numpy as np\n",
    "import matplotlib.pyplot as plt\n",
    "from sklearn.datasets import load_digits\n",
    "from sklearn.model_selection import GridSearchCV\n",
    "from sklearn.pipeline import Pipeline\n",
    "from sklearn.decomposition import PCA\n",
    "from sklearn.feature_selection import RFE\n",
    "model = svm.SVC( kernel=\"linear\" ,decision_function_shape='ovr', probability=True)\n",
    "\n",
    "\n",
    "pipe = Pipeline([\n",
    "    ('reduce_dim', PCA()),\n",
    "    ('classify',model )\n",
    "])\n",
    "\n",
    "N_FEATURES_OPTIONS = [.50]\n",
    "C_OPTIONS = [1]\n",
    "param_grid = [\n",
    "    {\n",
    "        'reduce_dim': [PCA()],\n",
    "        'reduce_dim__n_components': N_FEATURES_OPTIONS,\n",
    "        'classify__C': C_OPTIONS\n",
    "    },\n",
    "    \n",
    "]\n",
    "\n",
    "reducer_labels = ['PCA']\n",
    "# scores = ['%s_macro' % \"precision\", '%s_macro' % \"recall\",\"accuracy\"]\n",
    "scores = [\"accuracy\"]\n",
    "\n",
    "\n",
    "for score in scores:\n",
    "#     print(\"# Tuning hyper-parameters for %s\" % score)\n",
    "    grid = GridSearchCV(pipe, cv=5,scoring=score, param_grid=param_grid)\n",
    "#     print(digits.data.shape)\n",
    "\n",
    "    grid.fit(X_train, y_train)\n",
    "    \n",
    "#         res  = cross_validate(model, X_train_rfe, y_train,  cv=fold,scoring=scoring, return_train_score=False)\n",
    "    print(grid.best_estimator_)\n",
    "#     print(grid.best_score_)\n",
    "#     print(grid.best_params_)\n",
    "#     print(grid.best_score_)\n",
    "#     print(grid.best_estimator_)\n",
    "#     print(score)\n",
    "    print(sorted(grid.cv_results_.keys()) ) \n",
    "    print(grid.best_score_)\n",
    "    mean_scores = np.array(grid.cv_results_['mean_test_score']).mean()\n",
    "    print(grid.cv_results_['split1_test_score'])\n",
    "# print(mean_scores)\n"
   ]
  },
  {
   "cell_type": "code",
   "execution_count": 28,
   "metadata": {
    "ExecuteTime": {
     "end_time": "2021-10-08T12:54:36.173196Z",
     "start_time": "2021-10-08T12:54:35.783758Z"
    }
   },
   "outputs": [
    {
     "name": "stdout",
     "output_type": "stream",
     "text": [
      "0.981\n",
      "0.981\n"
     ]
    },
    {
     "data": {
      "text/plain": [
       "array([0.98630137, 0.97260274, 1.        , 0.97887324, 0.96478873])"
      ]
     },
     "execution_count": 28,
     "metadata": {},
     "output_type": "execute_result"
    }
   ],
   "source": [
    "pca = PCA(n_components=.50)\n",
    "from sklearn.model_selection import train_test_split,cross_validate,cross_val_score\n",
    "\n",
    "\n",
    "X_train_pca = pca.fit_transform(X_train, y_train )\n",
    "presisi = float(round(cross_val_score(model, X_train, y_train, cv=5,scoring=make_scorer(recall_score, average='micro')).mean(),3))\n",
    "print(presisi)\n",
    "recall = float(round(cross_val_score(model, X_train, y_train, cv=5,scoring=make_scorer(precision_score, average='micro')).mean(),3))\n",
    "print(recall)\n",
    "acc = cross_val_score(model, X_train, y_train, cv=5,scoring=make_scorer(accuracy_score))\n",
    "acc"
   ]
  },
  {
   "cell_type": "code",
   "execution_count": 27,
   "metadata": {
    "ExecuteTime": {
     "end_time": "2021-10-08T12:54:12.629037Z",
     "start_time": "2021-10-08T12:54:12.281514Z"
    }
   },
   "outputs": [
    {
     "name": "stdout",
     "output_type": "stream",
     "text": [
      "[0.98630137 0.97260274 1.         0.97887324 0.96478873]\n"
     ]
    },
    {
     "data": {
      "text/plain": [
       "0.981"
      ]
     },
     "execution_count": 27,
     "metadata": {},
     "output_type": "execute_result"
    }
   ],
   "source": [
    "presisi = cross_validate(model, X_train, y_train, cv=5,scoring=make_scorer(recall_score, average='micro'))\n",
    "recall = cross_validate(model, X_train, y_train, cv=5,scoring=make_scorer(precision_score, average='micro'))\n",
    "akurasi = cross_validate(model, X_train, y_train, cv=5,scoring=make_scorer(accuracy_score))\n",
    "print(akurasi.get('test_score'))\n",
    "score = float(round(akurasi.get('test_score').mean(),3))\n",
    "score"
   ]
  },
  {
   "cell_type": "code",
   "execution_count": null,
   "metadata": {},
   "outputs": [],
   "source": []
  }
 ],
 "metadata": {
  "kernelspec": {
   "display_name": "Python 3",
   "language": "python",
   "name": "python3"
  },
  "language_info": {
   "codemirror_mode": {
    "name": "ipython",
    "version": 3
   },
   "file_extension": ".py",
   "mimetype": "text/x-python",
   "name": "python",
   "nbconvert_exporter": "python",
   "pygments_lexer": "ipython3",
   "version": "3.7.4"
  },
  "toc": {
   "base_numbering": 1,
   "nav_menu": {},
   "number_sections": true,
   "sideBar": true,
   "skip_h1_title": false,
   "title_cell": "Table of Contents",
   "title_sidebar": "Contents",
   "toc_cell": false,
   "toc_position": {},
   "toc_section_display": true,
   "toc_window_display": false
  },
  "varInspector": {
   "cols": {
    "lenName": 16,
    "lenType": 16,
    "lenVar": 40
   },
   "kernels_config": {
    "python": {
     "delete_cmd_postfix": "",
     "delete_cmd_prefix": "del ",
     "library": "var_list.py",
     "varRefreshCmd": "print(var_dic_list())"
    },
    "r": {
     "delete_cmd_postfix": ") ",
     "delete_cmd_prefix": "rm(",
     "library": "var_list.r",
     "varRefreshCmd": "cat(var_dic_list()) "
    }
   },
   "types_to_exclude": [
    "module",
    "function",
    "builtin_function_or_method",
    "instance",
    "_Feature"
   ],
   "window_display": false
  }
 },
 "nbformat": 4,
 "nbformat_minor": 2
}
