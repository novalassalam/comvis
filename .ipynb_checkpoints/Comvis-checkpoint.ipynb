{
 "cells": [
  {
   "cell_type": "markdown",
   "metadata": {
    "ExecuteTime": {
     "start_time": "2021-09-29T04:19:37.327Z"
    }
   },
   "source": [
    "code pembelajaran ini dibuat oleh naufal & hepatika...\n",
    "\n",
    "latihan yang dipelajari meliputi:\n",
    "    1. load gambar dalam sebuah folder\n",
    "    2. preprocessing gambar\n",
    "    3. spliting dataset train test\n",
    "    4. klasifikasi\n",
    "    5. model evaluasi"
   ]
  },
  {
   "cell_type": "markdown",
   "metadata": {},
   "source": [
    "# membaca data dan memberi label"
   ]
  },
  {
   "cell_type": "code",
<<<<<<< HEAD
   "execution_count": 19,
   "metadata": {
    "ExecuteTime": {
     "end_time": "2021-11-27T13:20:14.766751Z",
     "start_time": "2021-11-27T13:20:13.029632Z"
=======
   "execution_count": 12,
   "metadata": {
    "ExecuteTime": {
     "end_time": "2021-11-17T14:08:24.053133Z",
     "start_time": "2021-11-17T14:08:21.794524Z"
>>>>>>> d6e0a46123a8b10d2460f9b62e18c61d85f3f704
    }
   },
   "outputs": [
    {
     "name": "stdout",
     "output_type": "stream",
     "text": [
      "hymenoptera_data/\n",
      "hymenoptera_data/0\n",
      "hymenoptera_data/1\n",
      "hymenoptera_data/2\n",
<<<<<<< HEAD
      "(343, 120000)\n"
=======
      "(343, 120000)\n",
      "(343,)\n"
>>>>>>> d6e0a46123a8b10d2460f9b62e18c61d85f3f704
     ]
    }
   ],
   "source": [
    "import os\n",
    "import os.path\n",
    "import numpy as np\n",
    "import matplotlib.pyplot as plt\n",
    "X = []    \n",
    "import cv2\n",
    "\n",
    "#menentukan direktori/folder data citra yang akan dibuka\n",
    "dirname = 'hymenoptera_data/'  \n",
    "\n",
    "#menentukan ukuran tinggi dan lebar gambar\n",
    "height = 200\n",
    "width = 200\n",
    "dim = (width, height)\n",
    "\n",
    "#mengumpulkan data citra yang akan dibuka dalam satu array\n",
    "tampungan= [] \n",
    "for path, subdirs, files in os.walk(dirname):\n",
    "    print(path)\n",
    "    for name in files:\n",
    "        img_path = (os.path.join(path, name))\n",
    "        if img_path.endswith(\"jpg\"):\n",
    "            img = cv2.imread(img_path) #baca path data\n",
    "            \n",
    "            #preprocessing data / segentasi  boleh dilakukan\n",
    "            convert = cv2.cvtColor(img, cv2.COLOR_BGR2HSV)\n",
    "            resized=cv2.resize(convert,dim, interpolation=cv2.INTER_LINEAR)\n",
    "            blur = cv2.GaussianBlur(resized,(5,5),0)            \n",
    "            tampungan.append(blur.flatten())\n",
    "#             print(blur.shape)\n",
    "X = np.array(tampungan) \n",
<<<<<<< HEAD
    "#mengetahui ukuran dari np\n",
=======
    "print(X.shape) #mengetahui ukuran dari np\n",
>>>>>>> d6e0a46123a8b10d2460f9b62e18c61d85f3f704
    "\n",
    "#labeling\n",
    "y0 = np.zeros(122)\n",
    "y1 = np.ones(121)\n",
    "y2 = np.full((100), 2)\n",
    "y = []\n",
    "y = np.concatenate((y0,y1,y2), axis=0)\n",
<<<<<<< HEAD
    "print(X.shape)"
   ]
  },
  {
   "cell_type": "code",
   "execution_count": 2,
   "metadata": {
    "ExecuteTime": {
     "end_time": "2021-12-09T02:17:14.050839Z",
     "start_time": "2021-12-09T02:17:14.008555Z"
    }
   },
   "outputs": [],
   "source": [
    "import os\n",
    "import os.path\n",
    "import numpy as np\n",
    "import matplotlib.pyplot as plt\n",
    "import cv2"
=======
    "print(y.shape)"
>>>>>>> d6e0a46123a8b10d2460f9b62e18c61d85f3f704
   ]
  },
  {
   "cell_type": "markdown",
   "metadata": {},
   "source": [
    "# train test split data"
   ]
  },
  {
   "cell_type": "code",
<<<<<<< HEAD
   "execution_count": 53,
   "metadata": {
    "ExecuteTime": {
     "end_time": "2021-11-27T11:57:43.088716Z",
     "start_time": "2021-11-27T11:57:43.009228Z"
=======
   "execution_count": 13,
   "metadata": {
    "ExecuteTime": {
     "end_time": "2021-11-17T14:08:37.000034Z",
     "start_time": "2021-11-17T14:08:36.937176Z"
>>>>>>> d6e0a46123a8b10d2460f9b62e18c61d85f3f704
    }
   },
   "outputs": [
    {
     "name": "stdout",
     "output_type": "stream",
     "text": [
      "X_train: (274, 120000)\n",
      "X_test: (69, 120000)\n",
      "y_train: (274,)\n",
      "y_test: (69,)\n"
     ]
    }
   ],
   "source": [
    "# kucing\n",
    "\n",
<<<<<<< HEAD
    "\n",
=======
    "# y0 = np.zeros(122)\n",
    "# y1 = np.ones(121)\n",
    "# y2 = np.full((100), 2)\n",
>>>>>>> d6e0a46123a8b10d2460f9b62e18c61d85f3f704
    "\n",
    "# X= 343 #full data\n",
    "\n",
    "# 274 : 69 \n",
    "# 80 : 20\n",
    "# #training & test\n",
    "# X_train (80%) , X_test (20%)\n",
    "# 70  : 30\n",
    "\n",
    "# y_train , y_test\n",
    "\n",
    "from sklearn.model_selection import GridSearchCV, train_test_split #library untuk train test split\n",
    "\n",
    "#melakukan splitting data\n",
    "X_train, X_test, y_train, y_test = train_test_split(X, y,test_size=0.20, stratify=y) #train size adalah persentase data test yang di-split\n",
    "\n",
    "from builtins import range\n",
    "from builtins import object\n",
    "num_training = X_train.shape[0] #deklarasi untuk data training diambil dari X_train\n",
    "mask = list(range(num_training))\n",
    "X_train = X_train[mask]\n",
    "y_train = y_train[mask]\n",
    "\n",
    "num_test = X_test.shape[0] #deklarasi untuk data diambil dari Y_train\n",
    "mask = list(range(num_test))\n",
    "X_test = X_test[mask]\n",
    "y_test = y_test[mask]\n",
    "\n",
    "# Mengubah data citra menjadi baris\n",
    "X_train = np.reshape(X_train, (X_train.shape[0], -1))\n",
    "X_test = np.reshape(X_test, (X_test.shape[0], -1))\n",
    "\n",
    "print(\"X_train: \"+str(X_train.shape))\n",
    "print(\"X_test: \"+str(X_test.shape))\n",
    "print(\"y_train: \"+str(y_train.shape))\n",
    "print(\"y_test: \"+str(y_test.shape))"
   ]
  },
  {
   "cell_type": "markdown",
   "metadata": {},
   "source": [
    "# uji training data"
   ]
  },
  {
   "cell_type": "code",
<<<<<<< HEAD
   "execution_count": null,
   "metadata": {},
   "outputs": [],
=======
   "execution_count": 14,
   "metadata": {
    "ExecuteTime": {
     "end_time": "2021-11-17T14:12:47.880469Z",
     "start_time": "2021-11-17T14:08:41.145001Z"
    }
   },
   "outputs": [
    {
     "ename": "KeyError",
     "evalue": "'test_acc'",
     "output_type": "error",
     "traceback": [
      "\u001b[0;31m---------------------------------------------------------------------------\u001b[0m",
      "\u001b[0;31mKeyError\u001b[0m                                  Traceback (most recent call last)",
      "\u001b[0;32m<ipython-input-14-6ba8b6dfad4c>\u001b[0m in \u001b[0;36m<module>\u001b[0;34m\u001b[0m\n\u001b[1;32m      7\u001b[0m score = cross_validate(model, X_train, y_train, scoring='accuracy',\n\u001b[1;32m      8\u001b[0m                          cv=5, return_train_score=True)\n\u001b[0;32m----> 9\u001b[0;31m \u001b[0mprint\u001b[0m\u001b[0;34m(\u001b[0m\u001b[0mscore\u001b[0m\u001b[0;34m[\u001b[0m\u001b[0;34m'test_acc'\u001b[0m\u001b[0;34m]\u001b[0m\u001b[0;34m.\u001b[0m\u001b[0mmean\u001b[0m\u001b[0;34m(\u001b[0m\u001b[0;34m)\u001b[0m\u001b[0;34m)\u001b[0m\u001b[0;34m\u001b[0m\u001b[0;34m\u001b[0m\u001b[0m\n\u001b[0m",
      "\u001b[0;31mKeyError\u001b[0m: 'test_acc'"
     ]
    }
   ],
>>>>>>> d6e0a46123a8b10d2460f9b62e18c61d85f3f704
   "source": [
    "from sklearn import svm\n",
    "from sklearn.model_selection import cross_validate, cross_val_score\n",
    "\n",
    "\n",
    "# membangun model SVM\n",
    "model = svm.SVC(C=1.0, kernel=\"linear\" ,decision_function_shape='ovr', probability=True)\n",
    "score = cross_validate(model, X_train, y_train, scoring='accuracy',\n",
    "                         cv=5, return_train_score=True)\n",
    "print(score['test_acc'].mean())"
   ]
  },
  {
   "cell_type": "markdown",
   "metadata": {},
   "source": [
    "# uji test data"
   ]
  },
  {
   "cell_type": "code",
   "execution_count": 7,
   "metadata": {
    "ExecuteTime": {
     "end_time": "2021-09-29T04:10:15.583525Z",
     "start_time": "2021-09-29T04:10:14.151751Z"
    }
   },
   "outputs": [
    {
     "name": "stdout",
     "output_type": "stream",
     "text": [
      "              precision    recall  f1-score   support\n",
      "\n",
      "         0.0       0.48      0.57      0.52        98\n",
      "         1.0       0.59      0.37      0.46        97\n",
      "         2.0       0.62      0.75      0.68        80\n",
      "\n",
      "    accuracy                           0.55       275\n",
      "   macro avg       0.56      0.56      0.55       275\n",
      "weighted avg       0.56      0.55      0.54       275\n",
      "\n"
     ]
    }
   ],
   "source": [
    "from sklearn.metrics import classification_report\n",
    "\n",
    "# melakukan uji data\n",
    "model.fit(X_train, y_train )\n",
    "y_pred = model.predict(X_test)\n",
    "print(classification_report(y_test, y_pred))\n",
    "\n",
    "#macro avg membandingkan hasil dengan jumlah dataset yang ada\n",
    "#micro avg membandingkan hasil dengan jumlah data tiap kelas"
   ]
  },
  {
   "cell_type": "code",
<<<<<<< HEAD
   "execution_count": 34,
   "metadata": {
    "ExecuteTime": {
     "end_time": "2021-11-27T11:50:18.523931Z",
     "start_time": "2021-11-27T11:50:18.515897Z"
=======
   "execution_count": 13,
   "metadata": {
    "ExecuteTime": {
     "end_time": "2021-09-29T04:15:29.235292Z",
     "start_time": "2021-09-29T04:15:29.218290Z"
>>>>>>> d6e0a46123a8b10d2460f9b62e18c61d85f3f704
    }
   },
   "outputs": [],
   "source": [
    "from sklearn import svm\n",
    "from sklearn.model_selection import GridSearchCV\n",
    "param_grid={'C':[0.1,1,10,100],'gamma':[0.0001,0.001,0.1,1],'kernel':['linear','poly']}\n",
    "svc=svm.SVC(probability=True)\n",
    "model=GridSearchCV(svc,param_grid)"
   ]
  },
  {
   "cell_type": "code",
<<<<<<< HEAD
   "execution_count": 20,
   "metadata": {
    "ExecuteTime": {
     "end_time": "2021-11-27T13:20:28.238572Z",
     "start_time": "2021-11-27T13:20:28.234661Z"
=======
   "execution_count": null,
   "metadata": {
    "ExecuteTime": {
     "start_time": "2021-09-29T04:16:24.379Z"
>>>>>>> d6e0a46123a8b10d2460f9b62e18c61d85f3f704
    }
   },
   "outputs": [],
   "source": [
<<<<<<< HEAD
    "from sklearn import svm\n",
    "\n",
    "model = svm.SVC(C=1.0, kernel=\"linear\" ,decision_function_shape='ovr', probability=True)\n"
   ]
  },
  {
   "cell_type": "code",
   "execution_count": 24,
   "metadata": {
    "ExecuteTime": {
     "end_time": "2021-11-27T13:28:54.492403Z",
     "start_time": "2021-11-27T13:26:22.915134Z"
    }
   },
   "outputs": [
    {
     "name": "stdout",
     "output_type": "stream",
     "text": [
      "Enter URL of Image :hymenoptera_data/1/21399619_3e61e5bb6f.jpg\n"
     ]
    },
    {
     "data": {
      "image/png": "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\n",
      "text/plain": [
       "<Figure size 432x288 with 1 Axes>"
      ]
     },
     "metadata": {
      "needs_background": "light"
     },
     "output_type": "display_data"
    },
    {
     "name": "stdout",
     "output_type": "stream",
     "text": [
      "[[0.04842559 0.03499468 0.91657973]]\n",
      "semut = 4.842558947730226%\n",
      "lebah = 3.4994680822039195%\n",
      "kucing = 91.65797297006584%\n",
      "The predicted image is : [2.]\n"
     ]
    }
   ],
   "source": [
=======
>>>>>>> d6e0a46123a8b10d2460f9b62e18c61d85f3f704
    "import matplotlib.pyplot as plt\n",
    "url=input('Enter URL of Image :')\n",
    "img=cv2.imread(url)\n",
    "plt.imshow(img)\n",
    "plt.show()\n",
<<<<<<< HEAD
    "from skimage.transform import resize\n",
    "\n",
    "#Hasil Uji Klasifikasi pada dataset\n",
    "Categories = ['semut','lebah','kucing']\n",
    "\n",
    "img_resize=resize(img,(200,200,3))\n",
    "l=[img_resize.flatten()]\n",
    "model.fit(X,y)\n",
=======
    "\n",
    "#Hasil Uji Klasifikasi pada dataset\n",
    "Categories=['anjing','kucing','ikan']\n",
    "img_resize=resize(img,(150,150,3))\n",
    "l=[img_resize.flatten()]\n",
    "model.fit(X_train,y_train)\n",
>>>>>>> d6e0a46123a8b10d2460f9b62e18c61d85f3f704
    "\n",
    "\n",
    "# Mengecek hasil klasifikasi pada salah satu dataset\n",
    "probability=model.predict_proba(l)\n",
    "print(probability)\n",
    "for ind,val in enumerate(Categories):\n",
    "    print(f'{val} = {probability[0][ind]*100}%')\n",
    "print(\"The predicted image is : \"+str(model.predict(l)))\n"
   ]
  },
  {
   "cell_type": "markdown",
   "metadata": {},
   "source": [
    "# metode evaluasi"
   ]
  },
  {
   "cell_type": "code",
   "execution_count": 6,
   "metadata": {
    "ExecuteTime": {
     "end_time": "2021-11-17T14:06:03.999853Z",
     "start_time": "2021-11-17T14:06:03.995490Z"
    }
   },
   "outputs": [],
   "source": [
    "from sklearn.metrics import classification_report\n",
    "\n",
    "label    =[1,0,1,0,0,1,1]\n",
    "prediksi =[0,1,1,0,0,1,0]\n"
   ]
  },
  {
   "cell_type": "code",
   "execution_count": 4,
   "metadata": {
    "ExecuteTime": {
     "end_time": "2021-11-17T14:04:23.752603Z",
     "start_time": "2021-11-17T14:04:23.741519Z"
    }
   },
   "outputs": [
    {
     "data": {
      "text/plain": [
       "(2, 1, 2, 2)"
      ]
     },
     "execution_count": 4,
     "metadata": {},
     "output_type": "execute_result"
    }
   ],
   "source": [
    "from sklearn.metrics import confusion_matrix\n",
    "TN, FP, FN, TP = confusion_matrix(label, prediksi).ravel()\n",
    "(TN, FP, FN, TP)"
   ]
  },
  {
   "cell_type": "code",
   "execution_count": 10,
   "metadata": {
    "ExecuteTime": {
     "end_time": "2021-11-17T14:07:19.513460Z",
     "start_time": "2021-11-17T14:07:19.506056Z"
    }
   },
   "outputs": [
    {
     "name": "stdout",
     "output_type": "stream",
     "text": [
      "akurasi 0.5714285714285714\n",
      "presisi 0.6666666666666666\n",
      "recall 0.5\n"
     ]
    }
   ],
   "source": [
    "#perhitungan akurasi, presisi , recall\n",
    "akurasi = (TP+TN)/(TP+FP+FN+TN)\n",
    "presisi = TP/(TP+FP)\n",
    "recall  = TP/(TP+FN)\n",
    "\n",
    "print('akurasi '+str(akurasi))\n",
    "print('presisi '+str(presisi))\n",
    "print('recall '+str(recall))"
   ]
  },
  {
   "cell_type": "code",
<<<<<<< HEAD
   "execution_count": 21,
   "metadata": {
    "ExecuteTime": {
     "end_time": "2021-11-27T13:22:19.241709Z",
     "start_time": "2021-11-27T13:20:41.550884Z"
    }
   },
   "outputs": [],
   "source": [
    "from sklearn import svm\n",
    "\n",
    "# membangun model SVM\n",
    "model = svm.SVC(C=1.0, kernel=\"linear\" ,decision_function_shape='ovr', probability=True)\n",
    "weight_model = model.fit(X,y)\n"
   ]
  },
  {
   "cell_type": "code",
   "execution_count": 3,
   "metadata": {
    "ExecuteTime": {
     "end_time": "2021-12-09T02:17:19.212246Z",
     "start_time": "2021-12-09T02:17:19.205247Z"
    }
   },
   "outputs": [],
   "source": [
    "import pickle\n",
    "\n",
    "def save_model(model, filename, path=\"\"): \n",
    "    with open(os.path.join(path, filename), 'wb') as out_name:\n",
    "        pickle.dump(model, out_name, pickle.HIGHEST_PROTOCOL)\n",
    "\n",
    "def read_model(filename, path=\"\"):\n",
    "    with open(os.path.join(path, filename), 'rb') as in_name:\n",
    "        model = pickle.load(in_name)\n",
    "        return model"
   ]
  },
  {
   "cell_type": "code",
   "execution_count": 14,
   "metadata": {
    "ExecuteTime": {
     "end_time": "2021-11-27T12:08:23.084185Z",
     "start_time": "2021-11-27T12:08:22.199416Z"
    }
   },
   "outputs": [],
   "source": [
    "save_model(weight_model, \"bobot2.pkl\", path=\"\") #simpan model"
   ]
  },
  {
   "cell_type": "code",
   "execution_count": 4,
   "metadata": {
    "ExecuteTime": {
     "end_time": "2021-12-09T02:17:23.001814Z",
     "start_time": "2021-12-09T02:17:22.532374Z"
    }
   },
   "outputs": [],
   "source": [
    "model = read_model(\"bobot2.pkl\", path=\"\") #load model"
   ]
  },
  {
   "cell_type": "markdown",
   "metadata": {},
   "source": [
    "# Proses Klasifikasi Video\n",
    "<img src=\"classifer.png\">"
   ]
  },
  {
   "cell_type": "markdown",
   "metadata": {},
   "source": [
    "## haar kotak deteksi"
   ]
  },
  {
   "cell_type": "code",
   "execution_count": 14,
   "metadata": {
    "ExecuteTime": {
     "end_time": "2021-11-30T03:36:55.828732Z",
     "start_time": "2021-11-30T03:34:47.254926Z"
    }
   },
   "outputs": [
    {
     "ename": "KeyboardInterrupt",
     "evalue": "",
     "output_type": "error",
     "traceback": [
      "\u001b[0;31m---------------------------------------------------------------------------\u001b[0m",
      "\u001b[0;31mKeyboardInterrupt\u001b[0m                         Traceback (most recent call last)",
      "\u001b[0;32m<ipython-input-14-ede0e5806e08>\u001b[0m in \u001b[0;36m<module>\u001b[0;34m\u001b[0m\n\u001b[1;32m     37\u001b[0m \u001b[0;34m\u001b[0m\u001b[0m\n\u001b[1;32m     38\u001b[0m     \u001b[0mcv2\u001b[0m\u001b[0;34m.\u001b[0m\u001b[0mimshow\u001b[0m\u001b[0;34m(\u001b[0m\u001b[0;34m'img'\u001b[0m\u001b[0;34m,\u001b[0m\u001b[0mimg\u001b[0m\u001b[0;34m)\u001b[0m\u001b[0;34m\u001b[0m\u001b[0;34m\u001b[0m\u001b[0m\n\u001b[0;32m---> 39\u001b[0;31m     \u001b[0mk\u001b[0m \u001b[0;34m=\u001b[0m \u001b[0mcv2\u001b[0m\u001b[0;34m.\u001b[0m\u001b[0mwaitKey\u001b[0m\u001b[0;34m(\u001b[0m\u001b[0;36m30\u001b[0m\u001b[0;34m)\u001b[0m \u001b[0;34m&\u001b[0m \u001b[0;36m0xff\u001b[0m\u001b[0;34m\u001b[0m\u001b[0;34m\u001b[0m\u001b[0m\n\u001b[0m\u001b[1;32m     40\u001b[0m     \u001b[0;32mif\u001b[0m \u001b[0mk\u001b[0m \u001b[0;34m==\u001b[0m \u001b[0;36m27\u001b[0m\u001b[0;34m:\u001b[0m\u001b[0;34m\u001b[0m\u001b[0;34m\u001b[0m\u001b[0m\n\u001b[1;32m     41\u001b[0m         \u001b[0;32mbreak\u001b[0m\u001b[0;34m\u001b[0m\u001b[0;34m\u001b[0m\u001b[0m\n",
      "\u001b[0;31mKeyboardInterrupt\u001b[0m: "
     ]
    }
   ],
   "source": [
    "import numpy as np\n",
    "import cv2\n",
    "\n",
    "face_cascade = cv2.CascadeClassifier('cascade/haarcascade_frontalface_default.xml')\n",
    "eye_cascade = cv2.CascadeClassifier('cascade/haarcascade_eye.xml')\n",
    "cat_cascade = cv2.CascadeClassifier('cascade/kucing.xml')\n",
    "\n",
    "\n",
    "\n",
    "cap = cv2.VideoCapture(0)\n",
    "# cap = cv2.VideoCapture('cat.mp4') #read mp4 file\n",
    "\n",
    "while 1:\n",
    "    ret, img = cap.read()\n",
    "    gray = cv2.cvtColor(img, cv2.COLOR_BGR2GRAY)\n",
    "    faces = face_cascade.detectMultiScale(gray, 1.3, 5)\n",
    "    catfaces = cat_cascade.detectMultiScale(gray , 1.3, 5)  \n",
    "\n",
    "    \n",
    "    for (x,y,w,h) in catfaces:\n",
    "        cv2.rectangle(img,(x,y),(x+w,y+h),(255,0,0),2)\n",
    "        font = cv2.FONT_HERSHEY_SIMPLEX\n",
    "        cv2.putText(img,'Cat',(x-w,y-h), font, 0.5, (11,255,255), 2, cv2.LINE_AA)\n",
    "\n",
    "\n",
    "    for (x,y,w,h) in faces:\n",
    "        cv2.rectangle(img,(x,y),(x+w,y+h),(255,0,0),2)\n",
    "        font = cv2.FONT_HERSHEY_SIMPLEX\n",
    "        cv2.putText(img,'Human Face',(x-w,y-h), font, 0.5, (11,255,255), 2, cv2.LINE_AA)\n",
    "\n",
    "        \n",
    "        roi_gray = gray[y:y+h, x:x+w]\n",
    "        roi_color = img[y:y+h, x:x+w]\n",
    "        eyes = eye_cascade.detectMultiScale(roi_gray)\n",
    "        for (ex,ey,ew,eh) in eyes:\n",
    "            cv2.rectangle(roi_color,(ex,ey),(ex+ew,ey+eh),(0,255,0),2)\n",
    "\n",
    "    cv2.imshow('img',img)\n",
    "    k = cv2.waitKey(30) & 0xff\n",
    "    if k == 27:\n",
    "        break\n",
    "\n",
    "cap.release()\n",
    "cv2.destroyAllWindows()"
   ]
  },
  {
   "cell_type": "markdown",
   "metadata": {},
   "source": [
    "# run mp4"
   ]
  },
  {
   "cell_type": "code",
   "execution_count": 20,
   "metadata": {
    "ExecuteTime": {
     "end_time": "2021-11-27T13:47:35.630418Z",
     "start_time": "2021-11-27T13:47:28.499315Z"
    }
   },
   "outputs": [
    {
     "ename": "KeyboardInterrupt",
     "evalue": "",
     "output_type": "error",
     "traceback": [
      "\u001b[0;31m---------------------------------------------------------------------------\u001b[0m",
      "\u001b[0;31mKeyboardInterrupt\u001b[0m                         Traceback (most recent call last)",
      "\u001b[0;32m<ipython-input-20-d60525df1242>\u001b[0m in \u001b[0;36m<module>\u001b[0;34m\u001b[0m\n\u001b[1;32m      8\u001b[0m     \u001b[0mret\u001b[0m\u001b[0;34m,\u001b[0m \u001b[0mframe\u001b[0m \u001b[0;34m=\u001b[0m \u001b[0mcap\u001b[0m\u001b[0;34m.\u001b[0m\u001b[0mread\u001b[0m\u001b[0;34m(\u001b[0m\u001b[0;34m)\u001b[0m\u001b[0;34m\u001b[0m\u001b[0;34m\u001b[0m\u001b[0m\n\u001b[1;32m      9\u001b[0m     \u001b[0mgray\u001b[0m \u001b[0;34m=\u001b[0m \u001b[0mcv2\u001b[0m\u001b[0;34m.\u001b[0m\u001b[0mcvtColor\u001b[0m\u001b[0;34m(\u001b[0m\u001b[0mframe\u001b[0m\u001b[0;34m,\u001b[0m \u001b[0mcv2\u001b[0m\u001b[0;34m.\u001b[0m\u001b[0mCOLOR_BGR2GRAY\u001b[0m\u001b[0;34m)\u001b[0m\u001b[0;34m\u001b[0m\u001b[0;34m\u001b[0m\u001b[0m\n\u001b[0;32m---> 10\u001b[0;31m     \u001b[0mfaces\u001b[0m \u001b[0;34m=\u001b[0m \u001b[0mface_cascade\u001b[0m\u001b[0;34m.\u001b[0m\u001b[0mdetectMultiScale\u001b[0m\u001b[0;34m(\u001b[0m\u001b[0mgray\u001b[0m\u001b[0;34m,\u001b[0m \u001b[0mscaleFactor\u001b[0m\u001b[0;34m=\u001b[0m\u001b[0;36m1.5\u001b[0m\u001b[0;34m,\u001b[0m \u001b[0mminNeighbors\u001b[0m\u001b[0;34m=\u001b[0m\u001b[0;36m5\u001b[0m\u001b[0;34m)\u001b[0m\u001b[0;34m\u001b[0m\u001b[0;34m\u001b[0m\u001b[0m\n\u001b[0m\u001b[1;32m     11\u001b[0m     \u001b[0;32mfor\u001b[0m \u001b[0;34m(\u001b[0m\u001b[0mx\u001b[0m\u001b[0;34m,\u001b[0m \u001b[0my\u001b[0m\u001b[0;34m,\u001b[0m \u001b[0mw\u001b[0m\u001b[0;34m,\u001b[0m \u001b[0mh\u001b[0m\u001b[0;34m)\u001b[0m \u001b[0;32min\u001b[0m \u001b[0mfaces\u001b[0m\u001b[0;34m:\u001b[0m\u001b[0;34m\u001b[0m\u001b[0;34m\u001b[0m\u001b[0m\n\u001b[1;32m     12\u001b[0m \u001b[0;31m#         frame = c[:, :, ::-1]\u001b[0m\u001b[0;34m\u001b[0m\u001b[0;34m\u001b[0m\u001b[0;34m\u001b[0m\u001b[0m\n",
      "\u001b[0;31mKeyboardInterrupt\u001b[0m: "
     ]
    }
   ],
   "source": [
    "import cv2\n",
    "from skimage.transform import resize\n",
    "labels = ['semut','lebah','kucing']\n",
    "face_cascade = cv2.CascadeClassifier('Face Detection haar/haarcascade/haarcascade_frontalface_default.xml')\n",
    "#file haar\n",
    "cap = cv2.VideoCapture('ant.mov') #read mp4 file\n",
    "while(cap.isOpened()):\n",
    "    ret, frame = cap.read()\n",
    "    gray = cv2.cvtColor(frame, cv2.COLOR_BGR2GRAY)\n",
    "    faces = face_cascade.detectMultiScale(gray, scaleFactor=1.5, minNeighbors=5)    \n",
    "    for (x, y, w, h) in faces:\n",
    "        roi_gray = gray[y:y + h, x:x + w]\n",
    "        roi_color = frame[y:y + h, x:x + w]\n",
    "        muka=resize(roi_gray,(200,200,3)) #wajib sama dengan citra inputan trainer\n",
    "        l=[muka.flatten()] #wajib di flatten\n",
    "        #model == model weight algoritma terbaik yg diload\n",
    "        id_= int(model.predict(l)[0]) #prediksi\n",
    "        conf =model.predict_proba(l)  #probabilitas akurasi tiap kelas\n",
    "        name = labels[id_]+' -> '+ str(conf[0][id_]) #tulisan buat hasil\n",
    "        print(name)\n",
    "        if conf.all() >= 0.5: #jika treshold lebih dari 50%\n",
    "          \n",
    "            font = cv2.QT_FONT_NORMAL\n",
    "            color = (255, 0, 0)\n",
    "            stroke = 2\n",
    "            cv2.putText(frame, name, (x, y), font, 1, color, stroke, cv2.LINE_AA) #teks tampil\n",
    "            cv2.rectangle(frame, (x, y), (x + w, y + h), (255, 0, 0), (2)) #kotakan deteksi\n",
    "        cv2.imshow('Object Detection', muka)\n",
    "\n",
    "        k = cv2.waitKey(20) & 0xff\n",
    "        if k == ord('q'):\n",
    "            break\n",
    "cap.release()\n",
    "cv2.destroyAllWindows()"
   ]
  },
  {
   "cell_type": "markdown",
   "metadata": {},
   "source": [
    "# run real time"
   ]
  },
  {
   "cell_type": "code",
   "execution_count": 6,
   "metadata": {
    "ExecuteTime": {
     "end_time": "2021-12-02T08:28:35.842707Z",
     "start_time": "2021-12-02T08:26:34.949921Z"
    }
   },
   "outputs": [
    {
     "ename": "KeyboardInterrupt",
     "evalue": "",
     "output_type": "error",
     "traceback": [
      "\u001b[0;31m---------------------------------------------------------------------------\u001b[0m",
      "\u001b[0;31mKeyboardInterrupt\u001b[0m                         Traceback (most recent call last)",
      "\u001b[0;32m<ipython-input-6-661513eae719>\u001b[0m in \u001b[0;36m<module>\u001b[0;34m\u001b[0m\n\u001b[1;32m      7\u001b[0m     \u001b[0mret\u001b[0m\u001b[0;34m,\u001b[0m \u001b[0mframe\u001b[0m \u001b[0;34m=\u001b[0m \u001b[0mcap\u001b[0m\u001b[0;34m.\u001b[0m\u001b[0mread\u001b[0m\u001b[0;34m(\u001b[0m\u001b[0;34m)\u001b[0m\u001b[0;34m\u001b[0m\u001b[0;34m\u001b[0m\u001b[0m\n\u001b[1;32m      8\u001b[0m     \u001b[0mgray\u001b[0m \u001b[0;34m=\u001b[0m \u001b[0mcv2\u001b[0m\u001b[0;34m.\u001b[0m\u001b[0mcvtColor\u001b[0m\u001b[0;34m(\u001b[0m\u001b[0mframe\u001b[0m\u001b[0;34m,\u001b[0m \u001b[0mcv2\u001b[0m\u001b[0;34m.\u001b[0m\u001b[0mCOLOR_BGR2GRAY\u001b[0m\u001b[0;34m)\u001b[0m\u001b[0;34m\u001b[0m\u001b[0;34m\u001b[0m\u001b[0m\n\u001b[0;32m----> 9\u001b[0;31m     \u001b[0mfaces\u001b[0m \u001b[0;34m=\u001b[0m \u001b[0mface_cascade\u001b[0m\u001b[0;34m.\u001b[0m\u001b[0mdetectMultiScale\u001b[0m\u001b[0;34m(\u001b[0m\u001b[0mgray\u001b[0m\u001b[0;34m,\u001b[0m \u001b[0mscaleFactor\u001b[0m\u001b[0;34m=\u001b[0m\u001b[0;36m1.5\u001b[0m\u001b[0;34m,\u001b[0m \u001b[0mminNeighbors\u001b[0m\u001b[0;34m=\u001b[0m\u001b[0;36m5\u001b[0m\u001b[0;34m)\u001b[0m\u001b[0;34m\u001b[0m\u001b[0;34m\u001b[0m\u001b[0m\n\u001b[0m\u001b[1;32m     10\u001b[0m \u001b[0;34m\u001b[0m\u001b[0m\n\u001b[1;32m     11\u001b[0m     \u001b[0;32mfor\u001b[0m \u001b[0;34m(\u001b[0m\u001b[0mx\u001b[0m\u001b[0;34m,\u001b[0m \u001b[0my\u001b[0m\u001b[0;34m,\u001b[0m \u001b[0mw\u001b[0m\u001b[0;34m,\u001b[0m \u001b[0mh\u001b[0m\u001b[0;34m)\u001b[0m \u001b[0;32min\u001b[0m \u001b[0mfaces\u001b[0m\u001b[0;34m:\u001b[0m\u001b[0;34m\u001b[0m\u001b[0;34m\u001b[0m\u001b[0m\n",
      "\u001b[0;31mKeyboardInterrupt\u001b[0m: "
     ]
    }
   ],
   "source": [
    "face_cascade = cv2.CascadeClassifier('cascade/haarcascade_frontalface_default.xml')\n",
    "cap = cv2.VideoCapture(0) #kode buka kamera\n",
    "labels = ['semut','lebah','kucing']\n",
    "from skimage.transform import resize\n",
    "\n",
    "while True:\n",
    "    ret, frame = cap.read()\n",
    "    gray = cv2.cvtColor(frame, cv2.COLOR_BGR2GRAY)\n",
    "    faces = face_cascade.detectMultiScale(gray, scaleFactor=1.5, minNeighbors=5)\n",
    "\n",
    "    for (x, y, w, h) in faces:\n",
    "        roi_gray = gray[y:y + h, x:x + w]\n",
    "        roi_color = frame[y:y + h, x:x + w]\n",
    "        muka=resize(roi_gray,(200,200,3)) #wajib sama dengan citra inputan trainer\n",
    "        l=[muka.flatten()]\n",
    "        #model == model weight algoritma terbaik yg diload\n",
    "        id_= int(model.predict(l)[0])#prediksi\n",
    "        conf =model.predict_proba(l) #probabilitas akurasi tiap kelas\n",
    "        name = labels[id_]+' -> '+ str(conf[0][id_]) #tulisan buat hasil\n",
    "        if conf.all() >= 0.50: #jika treshold lebih dari 50%\n",
    "          \n",
    "            font = cv2.QT_FONT_NORMAL\n",
    "            color = (255, 0, 0)\n",
    "            stroke = 2\n",
    "            cv2.putText(frame, name, (x, y), font, 1, color, stroke, cv2.LINE_AA) #hasil teks\n",
    "            cv2.rectangle(frame, (x, y), (x + w, y + h), (255, 0, 0), (2)) #kotakan deteksi\n",
    "\n",
    "        cv2.imshow('Object Detection', frame)\n",
    "        k = cv2.waitKey(20) & 0xff\n",
    "        if k == ord('q'):\n",
    "            break\n",
    "cap.release()\n",
    "cv2.destroyAllWindows()"
   ]
  },
  {
   "cell_type": "markdown",
   "metadata": {},
   "source": [
    "# Via API post "
   ]
  },
  {
   "cell_type": "code",
   "execution_count": 17,
   "metadata": {
    "ExecuteTime": {
     "end_time": "2021-12-09T03:10:57.977605Z",
     "start_time": "2021-12-09T03:10:41.721769Z"
    }
   },
   "outputs": [
    {
     "name": "stdout",
     "output_type": "stream",
     "text": [
      "kucing -> 0.9072966911175983\n",
      "{\"status\":\"sudah ada data\"}\n",
      "sudah ada data\n",
      "kucing -> 0.9072911777486711\n",
      "{\"status\":\"sudah ada data\"}\n",
      "sudah ada data\n",
      "kucing -> 0.907272052901042\n",
      "{\"status\":\"sudah ada data\"}\n",
      "sudah ada data\n",
      "kucing -> 0.9075190253963183\n",
      "{\"status\":\"sudah ada data\"}\n",
      "sudah ada data\n",
      "kucing -> 0.9074878156594492\n",
      "{\"status\":\"sudah ada data\"}\n",
      "sudah ada data\n",
      "kucing -> 0.9074139014137923\n",
      "{\"status\":\"sudah ada data\"}\n",
      "sudah ada data\n",
      "kucing -> 0.9073326996983911\n",
      "{\"status\":\"sudah ada data\"}\n",
      "sudah ada data\n",
      "kucing -> 0.907340844963023\n",
      "{\"status\":\"sudah ada data\"}\n",
      "sudah ada data\n",
      "kucing -> 0.9072506888883485\n",
      "{\"status\":\"sudah ada data\"}\n",
      "sudah ada data\n",
      "kucing -> 0.9074447623503491\n",
      "{\"status\":\"sudah ada data\"}\n",
      "sudah ada data\n",
      "kucing -> 0.9074074880251674\n",
      "{\"status\":\"sudah ada data\"}\n",
      "sudah ada data\n"
     ]
    },
    {
     "ename": "error",
     "evalue": "OpenCV(4.1.1) /Users/travis/build/skvark/opencv-python/opencv/modules/imgproc/src/color.cpp:182: error: (-215:Assertion failed) !_src.empty() in function 'cvtColor'\n",
     "output_type": "error",
     "traceback": [
      "\u001b[0;31m---------------------------------------------------------------------------\u001b[0m",
      "\u001b[0;31merror\u001b[0m                                     Traceback (most recent call last)",
      "\u001b[0;32m<ipython-input-17-34b2b40440dc>\u001b[0m in \u001b[0;36m<module>\u001b[0;34m\u001b[0m\n\u001b[1;32m     11\u001b[0m \u001b[0;32mwhile\u001b[0m\u001b[0;34m(\u001b[0m\u001b[0mcap\u001b[0m\u001b[0;34m.\u001b[0m\u001b[0misOpened\u001b[0m\u001b[0;34m(\u001b[0m\u001b[0;34m)\u001b[0m\u001b[0;34m)\u001b[0m\u001b[0;34m:\u001b[0m\u001b[0;34m\u001b[0m\u001b[0;34m\u001b[0m\u001b[0m\n\u001b[1;32m     12\u001b[0m     \u001b[0mret\u001b[0m\u001b[0;34m,\u001b[0m \u001b[0mframe\u001b[0m \u001b[0;34m=\u001b[0m \u001b[0mcap\u001b[0m\u001b[0;34m.\u001b[0m\u001b[0mread\u001b[0m\u001b[0;34m(\u001b[0m\u001b[0;34m)\u001b[0m\u001b[0;34m\u001b[0m\u001b[0;34m\u001b[0m\u001b[0m\n\u001b[0;32m---> 13\u001b[0;31m     \u001b[0mgray\u001b[0m \u001b[0;34m=\u001b[0m \u001b[0mcv2\u001b[0m\u001b[0;34m.\u001b[0m\u001b[0mcvtColor\u001b[0m\u001b[0;34m(\u001b[0m\u001b[0mframe\u001b[0m\u001b[0;34m,\u001b[0m \u001b[0mcv2\u001b[0m\u001b[0;34m.\u001b[0m\u001b[0mCOLOR_BGR2GRAY\u001b[0m\u001b[0;34m)\u001b[0m\u001b[0;34m\u001b[0m\u001b[0;34m\u001b[0m\u001b[0m\n\u001b[0m\u001b[1;32m     14\u001b[0m     \u001b[0mfaces\u001b[0m \u001b[0;34m=\u001b[0m \u001b[0mface_cascade\u001b[0m\u001b[0;34m.\u001b[0m\u001b[0mdetectMultiScale\u001b[0m\u001b[0;34m(\u001b[0m\u001b[0mgray\u001b[0m\u001b[0;34m,\u001b[0m \u001b[0mscaleFactor\u001b[0m\u001b[0;34m=\u001b[0m\u001b[0;36m1.5\u001b[0m\u001b[0;34m,\u001b[0m \u001b[0mminNeighbors\u001b[0m\u001b[0;34m=\u001b[0m\u001b[0;36m5\u001b[0m\u001b[0;34m)\u001b[0m\u001b[0;34m\u001b[0m\u001b[0;34m\u001b[0m\u001b[0m\n\u001b[1;32m     15\u001b[0m     \u001b[0;32mfor\u001b[0m \u001b[0;34m(\u001b[0m\u001b[0mx\u001b[0m\u001b[0;34m,\u001b[0m \u001b[0my\u001b[0m\u001b[0;34m,\u001b[0m \u001b[0mw\u001b[0m\u001b[0;34m,\u001b[0m \u001b[0mh\u001b[0m\u001b[0;34m)\u001b[0m \u001b[0;32min\u001b[0m \u001b[0mfaces\u001b[0m\u001b[0;34m:\u001b[0m\u001b[0;34m\u001b[0m\u001b[0;34m\u001b[0m\u001b[0m\n",
      "\u001b[0;31merror\u001b[0m: OpenCV(4.1.1) /Users/travis/build/skvark/opencv-python/opencv/modules/imgproc/src/color.cpp:182: error: (-215:Assertion failed) !_src.empty() in function 'cvtColor'\n"
     ]
    }
   ],
   "source": [
    "import requests\n",
    "import json\n",
    "\n",
    "url = 'http://localhost/web-programming-360/Tes/comvis_post'\n",
    "import cv2\n",
    "from skimage.transform import resize\n",
    "labels = ['semut','lebah','kucing']\n",
    "face_cascade = cv2.CascadeClassifier('cascade/haarcascade_frontalface_default.xml')\n",
    "#file haar\n",
    "cap = cv2.VideoCapture('cat.mov') #read mp4 file\n",
    "while(cap.isOpened()):\n",
    "    ret, frame = cap.read()\n",
    "    gray = cv2.cvtColor(frame, cv2.COLOR_BGR2GRAY)\n",
    "    faces = face_cascade.detectMultiScale(gray, scaleFactor=1.5, minNeighbors=5)    \n",
    "    for (x, y, w, h) in faces:\n",
    "        roi_gray = gray[y:y + h, x:x + w]\n",
    "        roi_color = frame[y:y + h, x:x + w]\n",
    "        muka=resize(roi_gray,(200,200,3)) #wajib sama dengan citra inputan trainer\n",
    "        l=[muka.flatten()] #wajib di flatten\n",
    "        #model == model weight algoritma terbaik yg diload\n",
    "        id_= int(model.predict(l)[0]) #prediksi\n",
    "        conf =model.predict_proba(l)  #probabilitas akurasi tiap kelas\n",
    "        name = labels[id_]+' -> '+ str(conf[0][id_]) #tulisan buat hasil\n",
    "        print(name)\n",
    "        if conf.all() >= 0.5: #jika treshold lebih dari 50%\n",
    "          \n",
    "            font = cv2.QT_FONT_NORMAL\n",
    "            color = (255, 0, 0)\n",
    "            stroke = 2\n",
    "            cv2.putText(frame, name, (x, y), font, 1, color, stroke, cv2.LINE_AA) #teks tampil\n",
    "            cv2.rectangle(frame, (x, y), (x + w, y + h), (255, 0, 0), (2)) #kotakan deteksi\n",
    "        cv2.imshow('Object Detection', roi_gray)\n",
    "        # post api\n",
    "        myobj = {'nama': labels[id_],'akurasi' :str(conf[0][id_])} #datanya\n",
    "        x = requests.post(url, data = myobj) #request \n",
    "        print(x.text) #hasil masih json\n",
    "        y = json.loads(x.text) #convert json string\n",
    "        print(y[\"status\"]) \n",
    "        k = cv2.waitKey(20) & 0xff\n",
    "        if k == ord('q'):\n",
    "            break\n",
    "# cap.release()\n",
    "cv2.destroyAllWindows()"
   ]
  },
  {
   "cell_type": "code",
=======
>>>>>>> d6e0a46123a8b10d2460f9b62e18c61d85f3f704
   "execution_count": null,
   "metadata": {},
   "outputs": [],
   "source": []
  }
 ],
 "metadata": {
  "kernelspec": {
   "display_name": "Python 3",
   "language": "python",
   "name": "python3"
  },
  "language_info": {
   "codemirror_mode": {
    "name": "ipython",
    "version": 3
   },
   "file_extension": ".py",
   "mimetype": "text/x-python",
   "name": "python",
   "nbconvert_exporter": "python",
   "pygments_lexer": "ipython3",
   "version": "3.7.4"
  },
  "toc": {
   "base_numbering": 1,
   "nav_menu": {},
   "number_sections": true,
   "sideBar": true,
   "skip_h1_title": false,
   "title_cell": "Table of Contents",
   "title_sidebar": "Contents",
   "toc_cell": false,
   "toc_position": {},
   "toc_section_display": true,
   "toc_window_display": false
  },
  "varInspector": {
   "cols": {
    "lenName": 16,
    "lenType": 16,
    "lenVar": 40
   },
   "kernels_config": {
    "python": {
     "delete_cmd_postfix": "",
     "delete_cmd_prefix": "del ",
     "library": "var_list.py",
     "varRefreshCmd": "print(var_dic_list())"
    },
    "r": {
     "delete_cmd_postfix": ") ",
     "delete_cmd_prefix": "rm(",
     "library": "var_list.r",
     "varRefreshCmd": "cat(var_dic_list()) "
    }
   },
   "types_to_exclude": [
    "module",
    "function",
    "builtin_function_or_method",
    "instance",
    "_Feature"
   ],
   "window_display": false
  }
 },
 "nbformat": 4,
 "nbformat_minor": 4
}
