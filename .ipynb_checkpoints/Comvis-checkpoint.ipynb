{
 "cells": [
  {
   "cell_type": "markdown",
   "metadata": {
    "ExecuteTime": {
     "start_time": "2021-09-29T04:19:37.327Z"
    }
   },
   "source": [
    "code pembelajaran ini dibuat oleh naufal & hepatika...\n",
    "\n",
    "latihan yang dipelajari meliputi:\n",
    "    1. load gambar dalam sebuah folder\n",
    "    2. preprocessing gambar\n",
    "    3. spliting dataset train test\n",
    "    4. klasifikasi\n",
    "    5. model evaluasi"
   ]
  },
  {
   "cell_type": "markdown",
   "metadata": {},
   "source": [
    "# membaca data dan memberi label"
   ]
  },
  {
   "cell_type": "code",
   "execution_count": 12,
   "metadata": {
    "ExecuteTime": {
     "end_time": "2021-11-17T14:08:24.053133Z",
     "start_time": "2021-11-17T14:08:21.794524Z"
    }
   },
   "outputs": [
    {
     "name": "stdout",
     "output_type": "stream",
     "text": [
      "hymenoptera_data/\n",
      "hymenoptera_data/0\n",
      "hymenoptera_data/1\n",
      "hymenoptera_data/2\n",
      "(343, 120000)\n",
      "(343,)\n"
     ]
    }
   ],
   "source": [
    "import os\n",
    "import os.path\n",
    "import numpy as np\n",
    "import matplotlib.pyplot as plt\n",
    "X = []    \n",
    "import cv2\n",
    "\n",
    "#menentukan direktori/folder data citra yang akan dibuka\n",
    "dirname = 'hymenoptera_data/'  \n",
    "\n",
    "#menentukan ukuran tinggi dan lebar gambar\n",
    "height = 200\n",
    "width = 200\n",
    "dim = (width, height)\n",
    "\n",
    "#mengumpulkan data citra yang akan dibuka dalam satu array\n",
    "tampungan= [] \n",
    "for path, subdirs, files in os.walk(dirname):\n",
    "    print(path)\n",
    "    for name in files:\n",
    "        img_path = (os.path.join(path, name))\n",
    "        if img_path.endswith(\"jpg\"):\n",
    "            img = cv2.imread(img_path) #baca path data\n",
    "            \n",
    "            #preprocessing data / segentasi  boleh dilakukan\n",
    "            convert = cv2.cvtColor(img, cv2.COLOR_BGR2HSV)\n",
    "            resized=cv2.resize(convert,dim, interpolation=cv2.INTER_LINEAR)\n",
    "            blur = cv2.GaussianBlur(resized,(5,5),0)            \n",
    "            tampungan.append(blur.flatten())\n",
    "#             print(blur.shape)\n",
    "X = np.array(tampungan) \n",
    "print(X.shape) #mengetahui ukuran dari np\n",
    "\n",
    "#labeling\n",
    "y0 = np.zeros(122)\n",
    "y1 = np.ones(121)\n",
    "y2 = np.full((100), 2)\n",
    "y = []\n",
    "y = np.concatenate((y0,y1,y2), axis=0)\n",
    "print(y.shape)"
   ]
  },
  {
   "cell_type": "markdown",
   "metadata": {},
   "source": [
    "# train test split data"
   ]
  },
  {
   "cell_type": "code",
   "execution_count": 13,
   "metadata": {
    "ExecuteTime": {
     "end_time": "2021-11-17T14:08:37.000034Z",
     "start_time": "2021-11-17T14:08:36.937176Z"
    }
   },
   "outputs": [
    {
     "name": "stdout",
     "output_type": "stream",
     "text": [
      "X_train: (274, 120000)\n",
      "X_test: (69, 120000)\n",
      "y_train: (274,)\n",
      "y_test: (69,)\n"
     ]
    }
   ],
   "source": [
    "# kucing\n",
    "\n",
    "# y0 = np.zeros(122)\n",
    "# y1 = np.ones(121)\n",
    "# y2 = np.full((100), 2)\n",
    "\n",
    "# X= 343 #full data\n",
    "\n",
    "# 274 : 69 \n",
    "# 80 : 20\n",
    "# #training & test\n",
    "# X_train (80%) , X_test (20%)\n",
    "# 70  : 30\n",
    "\n",
    "# y_train , y_test\n",
    "\n",
    "from sklearn.model_selection import GridSearchCV, train_test_split #library untuk train test split\n",
    "\n",
    "#melakukan splitting data\n",
    "X_train, X_test, y_train, y_test = train_test_split(X, y,test_size=0.20, stratify=y) #train size adalah persentase data test yang di-split\n",
    "\n",
    "from builtins import range\n",
    "from builtins import object\n",
    "num_training = X_train.shape[0] #deklarasi untuk data training diambil dari X_train\n",
    "mask = list(range(num_training))\n",
    "X_train = X_train[mask]\n",
    "y_train = y_train[mask]\n",
    "\n",
    "num_test = X_test.shape[0] #deklarasi untuk data diambil dari Y_train\n",
    "mask = list(range(num_test))\n",
    "X_test = X_test[mask]\n",
    "y_test = y_test[mask]\n",
    "\n",
    "# Mengubah data citra menjadi baris\n",
    "X_train = np.reshape(X_train, (X_train.shape[0], -1))\n",
    "X_test = np.reshape(X_test, (X_test.shape[0], -1))\n",
    "\n",
    "print(\"X_train: \"+str(X_train.shape))\n",
    "print(\"X_test: \"+str(X_test.shape))\n",
    "print(\"y_train: \"+str(y_train.shape))\n",
    "print(\"y_test: \"+str(y_test.shape))"
   ]
  },
  {
   "cell_type": "markdown",
   "metadata": {},
   "source": [
    "# uji training data"
   ]
  },
  {
   "cell_type": "code",
   "execution_count": 14,
   "metadata": {
    "ExecuteTime": {
     "end_time": "2021-11-17T14:12:47.880469Z",
     "start_time": "2021-11-17T14:08:41.145001Z"
    }
   },
   "outputs": [
    {
     "ename": "KeyError",
     "evalue": "'test_acc'",
     "output_type": "error",
     "traceback": [
      "\u001b[0;31m---------------------------------------------------------------------------\u001b[0m",
      "\u001b[0;31mKeyError\u001b[0m                                  Traceback (most recent call last)",
      "\u001b[0;32m<ipython-input-14-6ba8b6dfad4c>\u001b[0m in \u001b[0;36m<module>\u001b[0;34m\u001b[0m\n\u001b[1;32m      7\u001b[0m score = cross_validate(model, X_train, y_train, scoring='accuracy',\n\u001b[1;32m      8\u001b[0m                          cv=5, return_train_score=True)\n\u001b[0;32m----> 9\u001b[0;31m \u001b[0mprint\u001b[0m\u001b[0;34m(\u001b[0m\u001b[0mscore\u001b[0m\u001b[0;34m[\u001b[0m\u001b[0;34m'test_acc'\u001b[0m\u001b[0;34m]\u001b[0m\u001b[0;34m.\u001b[0m\u001b[0mmean\u001b[0m\u001b[0;34m(\u001b[0m\u001b[0;34m)\u001b[0m\u001b[0;34m)\u001b[0m\u001b[0;34m\u001b[0m\u001b[0;34m\u001b[0m\u001b[0m\n\u001b[0m",
      "\u001b[0;31mKeyError\u001b[0m: 'test_acc'"
     ]
    }
   ],
   "source": [
    "from sklearn import svm\n",
    "from sklearn.model_selection import cross_validate, cross_val_score\n",
    "\n",
    "\n",
    "# membangun model SVM\n",
    "model = svm.SVC(C=1.0, kernel=\"linear\" ,decision_function_shape='ovr', probability=True)\n",
    "score = cross_validate(model, X_train, y_train, scoring='accuracy',\n",
    "                         cv=5, return_train_score=True)\n",
    "print(score['test_acc'].mean())"
   ]
  },
  {
   "cell_type": "markdown",
   "metadata": {},
   "source": [
    "# uji test data"
   ]
  },
  {
   "cell_type": "code",
   "execution_count": 7,
   "metadata": {
    "ExecuteTime": {
     "end_time": "2021-09-29T04:10:15.583525Z",
     "start_time": "2021-09-29T04:10:14.151751Z"
    }
   },
   "outputs": [
    {
     "name": "stdout",
     "output_type": "stream",
     "text": [
      "              precision    recall  f1-score   support\n",
      "\n",
      "         0.0       0.48      0.57      0.52        98\n",
      "         1.0       0.59      0.37      0.46        97\n",
      "         2.0       0.62      0.75      0.68        80\n",
      "\n",
      "    accuracy                           0.55       275\n",
      "   macro avg       0.56      0.56      0.55       275\n",
      "weighted avg       0.56      0.55      0.54       275\n",
      "\n"
     ]
    }
   ],
   "source": [
    "from sklearn.metrics import classification_report\n",
    "\n",
    "# melakukan uji data\n",
    "model.fit(X_train, y_train )\n",
    "y_pred = model.predict(X_test)\n",
    "print(classification_report(y_test, y_pred))\n",
    "\n",
    "#macro avg membandingkan hasil dengan jumlah dataset yang ada\n",
    "#micro avg membandingkan hasil dengan jumlah data tiap kelas"
   ]
  },
  {
   "cell_type": "code",
   "execution_count": 13,
   "metadata": {
    "ExecuteTime": {
     "end_time": "2021-09-29T04:15:29.235292Z",
     "start_time": "2021-09-29T04:15:29.218290Z"
    }
   },
   "outputs": [],
   "source": [
    "from sklearn import svm\n",
    "from sklearn.model_selection import GridSearchCV\n",
    "param_grid={'C':[0.1,1,10,100],'gamma':[0.0001,0.001,0.1,1],'kernel':['linear','poly']}\n",
    "svc=svm.SVC(probability=True)\n",
    "model=GridSearchCV(svc,param_grid)"
   ]
  },
  {
   "cell_type": "code",
   "execution_count": null,
   "metadata": {
    "ExecuteTime": {
     "start_time": "2021-09-29T04:16:24.379Z"
    }
   },
   "outputs": [],
   "source": [
    "import matplotlib.pyplot as plt\n",
    "url=input('Enter URL of Image :')\n",
    "img=cv2.imread(url)\n",
    "plt.imshow(img)\n",
    "plt.show()\n",
    "\n",
    "#Hasil Uji Klasifikasi pada dataset\n",
    "Categories=['anjing','kucing','ikan']\n",
    "img_resize=resize(img,(150,150,3))\n",
    "l=[img_resize.flatten()]\n",
    "model.fit(X_train,y_train)\n",
    "\n",
    "\n",
    "# Mengecek hasil klasifikasi pada salah satu dataset\n",
    "probability=model.predict_proba(l)\n",
    "print(probability)\n",
    "for ind,val in enumerate(Categories):\n",
    "    print(f'{val} = {probability[0][ind]*100}%')\n",
    "print(\"The predicted image is : \"+str(model.predict(l)))\n"
   ]
  },
  {
   "cell_type": "markdown",
   "metadata": {},
   "source": [
    "# metode evaluasi"
   ]
  },
  {
   "cell_type": "code",
   "execution_count": 6,
   "metadata": {
    "ExecuteTime": {
     "end_time": "2021-11-17T14:06:03.999853Z",
     "start_time": "2021-11-17T14:06:03.995490Z"
    }
   },
   "outputs": [],
   "source": [
    "from sklearn.metrics import classification_report\n",
    "\n",
    "label    =[1,0,1,0,0,1,1]\n",
    "prediksi =[0,1,1,0,0,1,0]\n"
   ]
  },
  {
   "cell_type": "code",
   "execution_count": 4,
   "metadata": {
    "ExecuteTime": {
     "end_time": "2021-11-17T14:04:23.752603Z",
     "start_time": "2021-11-17T14:04:23.741519Z"
    }
   },
   "outputs": [
    {
     "data": {
      "text/plain": [
       "(2, 1, 2, 2)"
      ]
     },
     "execution_count": 4,
     "metadata": {},
     "output_type": "execute_result"
    }
   ],
   "source": [
    "from sklearn.metrics import confusion_matrix\n",
    "TN, FP, FN, TP = confusion_matrix(label, prediksi).ravel()\n",
    "(TN, FP, FN, TP)"
   ]
  },
  {
   "cell_type": "code",
   "execution_count": 10,
   "metadata": {
    "ExecuteTime": {
     "end_time": "2021-11-17T14:07:19.513460Z",
     "start_time": "2021-11-17T14:07:19.506056Z"
    }
   },
   "outputs": [
    {
     "name": "stdout",
     "output_type": "stream",
     "text": [
      "akurasi 0.5714285714285714\n",
      "presisi 0.6666666666666666\n",
      "recall 0.5\n"
     ]
    }
   ],
   "source": [
    "#perhitungan akurasi, presisi , recall\n",
    "akurasi = (TP+TN)/(TP+FP+FN+TN)\n",
    "presisi = TP/(TP+FP)\n",
    "recall  = TP/(TP+FN)\n",
    "\n",
    "print('akurasi '+str(akurasi))\n",
    "print('presisi '+str(presisi))\n",
    "print('recall '+str(recall))"
   ]
  },
  {
   "cell_type": "code",
   "execution_count": null,
   "metadata": {},
   "outputs": [],
   "source": []
  }
 ],
 "metadata": {
  "kernelspec": {
   "display_name": "Python 3",
   "language": "python",
   "name": "python3"
  },
  "language_info": {
   "codemirror_mode": {
    "name": "ipython",
    "version": 3
   },
   "file_extension": ".py",
   "mimetype": "text/x-python",
   "name": "python",
   "nbconvert_exporter": "python",
   "pygments_lexer": "ipython3",
   "version": "3.7.4"
  },
  "toc": {
   "base_numbering": 1,
   "nav_menu": {},
   "number_sections": true,
   "sideBar": true,
   "skip_h1_title": false,
   "title_cell": "Table of Contents",
   "title_sidebar": "Contents",
   "toc_cell": false,
   "toc_position": {},
   "toc_section_display": true,
   "toc_window_display": false
  },
  "varInspector": {
   "cols": {
    "lenName": 16,
    "lenType": 16,
    "lenVar": 40
   },
   "kernels_config": {
    "python": {
     "delete_cmd_postfix": "",
     "delete_cmd_prefix": "del ",
     "library": "var_list.py",
     "varRefreshCmd": "print(var_dic_list())"
    },
    "r": {
     "delete_cmd_postfix": ") ",
     "delete_cmd_prefix": "rm(",
     "library": "var_list.r",
     "varRefreshCmd": "cat(var_dic_list()) "
    }
   },
   "types_to_exclude": [
    "module",
    "function",
    "builtin_function_or_method",
    "instance",
    "_Feature"
   ],
   "window_display": false
  }
 },
 "nbformat": 4,
 "nbformat_minor": 4
}
