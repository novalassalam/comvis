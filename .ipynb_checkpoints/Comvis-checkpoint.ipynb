{
 "cells": [
  {
   "cell_type": "markdown",
   "metadata": {
    "ExecuteTime": {
     "start_time": "2021-09-29T04:19:37.327Z"
    }
   },
   "source": [
    "code pembelajaran ini dibuat oleh naufal & hepatica...\n",
    "\n",
    "latihan yang dipelajari meliputi:\n",
    "    1. load gambar dalam sebuah folder\n",
    "    2. preprocessing gambar\n",
    "    3. spliting dataset train test\n",
    "    4. klasifikasi\n",
    "    5. model evaluasi"
   ]
  },
  {
   "cell_type": "markdown",
   "metadata": {},
   "source": [
    "# membaca data dan memberi label"
   ]
  },
  {
   "cell_type": "code",
   "execution_count": 1,
   "metadata": {
    "ExecuteTime": {
     "end_time": "2021-09-29T04:55:28.623550Z",
     "start_time": "2021-09-29T04:55:27.111629Z"
    }
   },
   "outputs": [
    {
     "name": "stdout",
     "output_type": "stream",
     "text": [
      "(343, 145200)\n"
     ]
    }
   ],
   "source": [
    "import os\n",
    "import os.path\n",
    "import numpy as np\n",
    "import matplotlib.pyplot as plt\n",
    "X = []    \n",
    "import cv2\n",
    "dirname = 'hymenoptera_data/'  \n",
    "height = 220\n",
    "width = 220\n",
    "dim = (width, height)\n",
    "tampungan= []\n",
    "for path, subdirs, files in os.walk(dirname):\n",
    "    for name in files:\n",
    "        img_path = (os.path.join(path, name))\n",
    "        if img_path.endswith(\"jpg\"):\n",
    "            img = cv2.imread(img_path) #baca data\n",
    "            #preprocessing data\n",
    "            convert = cv2.cvtColor(img, cv2.COLOR_BGR2HSV)\n",
    "            resized=cv2.resize(convert,dim, interpolation=cv2.INTER_LINEAR)\n",
    "            blur = cv2.GaussianBlur(resized,(5,5),0)\n",
    "            \n",
    "            tampungan.append(blur.flatten())\n",
    "X = np.array(tampungan)\n",
    "print(X.shape)\n",
    "\n",
    "y0 = np.zeros(122)\n",
    "y1 = np.ones(121)\n",
    "y2 = np.full((100), 2)\n",
    "y = []\n",
    "y = np.concatenate((y0,y1,y2), axis=0)"
   ]
  },
  {
   "cell_type": "markdown",
   "metadata": {},
   "source": [
    "# train test split data"
   ]
  },
  {
   "cell_type": "code",
   "execution_count": 3,
   "metadata": {
    "ExecuteTime": {
     "end_time": "2021-09-29T04:41:58.381131Z",
     "start_time": "2021-09-29T04:41:58.106503Z"
    }
   },
   "outputs": [
    {
     "name": "stdout",
     "output_type": "stream",
     "text": [
      "X_train: (68, 67500)\n",
      "X_test: (275, 67500)\n",
      "y_train: (68,)\n",
      "y_test: (275,)\n"
     ]
    }
   ],
   "source": [
    "from sklearn.model_selection import GridSearchCV, train_test_split\n",
    "X_train, X_test, y_train, y_test = train_test_split(X, y,train_size=0.20, stratify=y)\n",
    "\n",
    "from builtins import range\n",
    "from builtins import object\n",
    "\n",
    "num_training = X_train.shape[0]\n",
    "mask = list(range(num_training))\n",
    "X_train = X_train[mask]\n",
    "y_train = y_train[mask]\n",
    "\n",
    "num_test = X_test.shape[0]\n",
    "mask = list(range(num_test))\n",
    "X_test = X_test[mask]\n",
    "y_test = y_test[mask]\n",
    "\n",
    "# Reshape the image data into rows\n",
    "X_train = np.reshape(X_train, (X_train.shape[0], -1))\n",
    "X_test = np.reshape(X_test, (X_test.shape[0], -1))\n",
    "\n",
    "print(\"X_train: \"+str(X_train.shape))\n",
    "print(\"X_test: \"+str(X_test.shape))\n",
    "print(\"y_train: \"+str(y_train.shape))\n",
    "print(\"y_test: \"+str(y_test.shape))"
   ]
  },
  {
   "cell_type": "markdown",
   "metadata": {},
   "source": [
    "# uji training data"
   ]
  },
  {
   "cell_type": "code",
   "execution_count": 4,
   "metadata": {
    "ExecuteTime": {
     "end_time": "2021-09-29T04:42:03.835160Z",
     "start_time": "2021-09-29T04:42:00.620966Z"
    }
   },
   "outputs": [
    {
     "name": "stdout",
     "output_type": "stream",
     "text": [
      "0.5758241758241758\n"
     ]
    }
   ],
   "source": [
    "from sklearn import svm\n",
    "from sklearn.model_selection import cross_validate, cross_val_score\n",
    "\n",
    "scoring = {'acc': 'accuracy',\n",
    "#            'precision': 'precision',\n",
    "#            'recall': 'recall'\n",
    "          }\n",
    "model = svm.SVC(C=1.0, kernel=\"linear\" ,decision_function_shape='ovr', probability=True)\n",
    "score = cross_validate(model, X_train, y_train, scoring=scoring,\n",
    "                         cv=5, return_train_score=True)\n",
    "print(score['test_acc'].mean())"
   ]
  },
  {
   "cell_type": "code",
   "execution_count": 5,
   "metadata": {
    "ExecuteTime": {
     "end_time": "2021-09-29T04:42:08.888032Z",
     "start_time": "2021-09-29T04:42:06.215457Z"
    }
   },
   "outputs": [
    {
     "name": "stdout",
     "output_type": "stream",
     "text": [
      "              precision    recall  f1-score   support\n",
      "\n",
      "         0.0       0.17      0.20      0.18         5\n",
      "         1.0       0.33      0.40      0.36         5\n",
      "         2.0       1.00      0.50      0.67         4\n",
      "\n",
      "    accuracy                           0.36        14\n",
      "   macro avg       0.50      0.37      0.40        14\n",
      "weighted avg       0.46      0.36      0.39        14\n",
      "\n",
      "              precision    recall  f1-score   support\n",
      "\n",
      "         0.0       0.67      0.80      0.73         5\n",
      "         1.0       0.75      0.60      0.67         5\n",
      "         2.0       0.50      0.50      0.50         4\n",
      "\n",
      "    accuracy                           0.64        14\n",
      "   macro avg       0.64      0.63      0.63        14\n",
      "weighted avg       0.65      0.64      0.64        14\n",
      "\n",
      "              precision    recall  f1-score   support\n",
      "\n",
      "         0.0       0.50      0.60      0.55         5\n",
      "         1.0       0.67      0.40      0.50         5\n",
      "         2.0       0.60      0.75      0.67         4\n",
      "\n",
      "    accuracy                           0.57        14\n",
      "   macro avg       0.59      0.58      0.57        14\n",
      "weighted avg       0.59      0.57      0.56        14\n",
      "\n",
      "              precision    recall  f1-score   support\n",
      "\n",
      "         0.0       0.50      0.80      0.62         5\n",
      "         1.0       0.00      0.00      0.00         4\n",
      "         2.0       0.50      0.50      0.50         4\n",
      "\n",
      "    accuracy                           0.46        13\n",
      "   macro avg       0.33      0.43      0.37        13\n",
      "weighted avg       0.35      0.46      0.39        13\n",
      "\n",
      "              precision    recall  f1-score   support\n",
      "\n",
      "         0.0       0.75      0.75      0.75         4\n",
      "         1.0       0.80      0.80      0.80         5\n",
      "         2.0       1.00      1.00      1.00         4\n",
      "\n",
      "    accuracy                           0.85        13\n",
      "   macro avg       0.85      0.85      0.85        13\n",
      "weighted avg       0.85      0.85      0.85        13\n",
      "\n",
      "0.5758241758241758\n"
     ]
    }
   ],
   "source": [
    "from sklearn.metrics import classification_report, accuracy_score, make_scorer\n",
    "\n",
    "def classification_report_with_accuracy_score(y_true, y_pred):\n",
    "    print (classification_report(y_true, y_pred)) # print classification report\n",
    "    return accuracy_score(y_true, y_pred) # return accuracy score\n",
    "# Nested CV with parameter optimization\n",
    "nested_score = cross_val_score(model, X_train, y_train, cv=5, \n",
    "               scoring=make_scorer(classification_report_with_accuracy_score))\n",
    "print(nested_score.mean())"
   ]
  },
  {
   "cell_type": "markdown",
   "metadata": {},
   "source": [
    "# uji test data"
   ]
  },
  {
   "cell_type": "code",
   "execution_count": 7,
   "metadata": {
    "ExecuteTime": {
     "end_time": "2021-09-29T04:10:15.583525Z",
     "start_time": "2021-09-29T04:10:14.151751Z"
    }
   },
   "outputs": [
    {
     "name": "stdout",
     "output_type": "stream",
     "text": [
      "              precision    recall  f1-score   support\n",
      "\n",
      "         0.0       0.48      0.57      0.52        98\n",
      "         1.0       0.59      0.37      0.46        97\n",
      "         2.0       0.62      0.75      0.68        80\n",
      "\n",
      "    accuracy                           0.55       275\n",
      "   macro avg       0.56      0.56      0.55       275\n",
      "weighted avg       0.56      0.55      0.54       275\n",
      "\n"
     ]
    }
   ],
   "source": [
    "from sklearn.metrics import classification_report\n",
    "\n",
    "model.fit(X_train, y_train )\n",
    "y_pred = model.predict(X_test)\n",
    "print(classification_report(y_test, y_pred))"
   ]
  },
  {
   "cell_type": "code",
   "execution_count": 13,
   "metadata": {
    "ExecuteTime": {
     "end_time": "2021-09-29T04:15:29.235292Z",
     "start_time": "2021-09-29T04:15:29.218290Z"
    }
   },
   "outputs": [],
   "source": [
    "from sklearn import svm\n",
    "from sklearn.model_selection import GridSearchCV\n",
    "param_grid={'C':[0.1,1,10,100],'gamma':[0.0001,0.001,0.1,1],'kernel':['linear','poly']}\n",
    "svc=svm.SVC(probability=True)\n",
    "model=GridSearchCV(svc,param_grid)"
   ]
  },
  {
   "cell_type": "code",
   "execution_count": null,
   "metadata": {
    "ExecuteTime": {
     "start_time": "2021-09-29T04:16:24.379Z"
    }
   },
   "outputs": [],
   "source": [
    "\n",
    "import matplotlib.pyplot as plt\n",
    "url=input('Enter URL of Image :')\n",
    "img=cv2.imread(url)\n",
    "plt.imshow(img)\n",
    "plt.show()\n",
    "Categories=['anjing','kucing','ikan']\n",
    "img_resize=resize(img,(150,150,3))\n",
    "l=[img_resize.flatten()]\n",
    "model.fit(X_train,y_train)\n",
    "\n",
    "probability=model.predict_proba(l)\n",
    "print(probability)\n",
    "for ind,val in enumerate(Categories):\n",
    "    print(f'{val} = {probability[0][ind]*100}%')\n",
    "print(\"The predicted image is : \"+str(model.predict(l)))\n"
   ]
  },
  {
   "cell_type": "code",
   "execution_count": null,
   "metadata": {},
   "outputs": [],
   "source": []
  }
 ],
 "metadata": {
  "kernelspec": {
   "display_name": "Python 3",
   "language": "python",
   "name": "python3"
  },
  "language_info": {
   "codemirror_mode": {
    "name": "ipython",
    "version": 3
   },
   "file_extension": ".py",
   "mimetype": "text/x-python",
   "name": "python",
   "nbconvert_exporter": "python",
   "pygments_lexer": "ipython3",
   "version": "3.7.4"
  },
  "toc": {
   "base_numbering": 1,
   "nav_menu": {},
   "number_sections": true,
   "sideBar": true,
   "skip_h1_title": false,
   "title_cell": "Table of Contents",
   "title_sidebar": "Contents",
   "toc_cell": false,
   "toc_position": {},
   "toc_section_display": true,
   "toc_window_display": false
  },
  "varInspector": {
   "cols": {
    "lenName": 16,
    "lenType": 16,
    "lenVar": 40
   },
   "kernels_config": {
    "python": {
     "delete_cmd_postfix": "",
     "delete_cmd_prefix": "del ",
     "library": "var_list.py",
     "varRefreshCmd": "print(var_dic_list())"
    },
    "r": {
     "delete_cmd_postfix": ") ",
     "delete_cmd_prefix": "rm(",
     "library": "var_list.r",
     "varRefreshCmd": "cat(var_dic_list()) "
    }
   },
   "types_to_exclude": [
    "module",
    "function",
    "builtin_function_or_method",
    "instance",
    "_Feature"
   ],
   "window_display": false
  }
 },
 "nbformat": 4,
 "nbformat_minor": 4
}
